{
 "cells": [
  {
   "cell_type": "code",
   "execution_count": 1,
   "id": "352c4ea5-56e6-4f68-94c1-3e08eafdab42",
   "metadata": {
    "tags": []
   },
   "outputs": [],
   "source": [
    "import matplotlib.pyplot as plt\n",
    "import seaborn as sns\n",
    "import geopandas as gpd\n",
    "import pandas as pd\n",
    "from shapely.geometry import Point\n",
    "\n",
    "\n",
    "\n",
    "data = pd.read_csv(r'C:\\Users\\kritan\\Downloads\\ShapeFiles\\Nepal15.csv',)\n",
    "nepaldata = gpd.read_file(r'C:\\Users\\kritan\\Downloads\\ShapeFiles\\local_unit.shp')\n",
    "nepaldata.to_crs(epsg=4326, inplace=True)\n",
    "M = ['January', 'February', 'March', 'April', 'May', 'June', 'July', 'August', 'September', 'October', 'November', 'December']\n"
   ]
  },
  {
   "cell_type": "markdown",
   "id": "a2fba35c-b5ac-45c8-b29b-5a41955ac302",
   "metadata": {
    "tags": []
   },
   "source": [
    "# EXTRACTING DATA"
   ]
  },
  {
   "cell_type": "code",
   "execution_count": 2,
   "id": "506b1eda-f6df-43eb-a1e9-213f98750d55",
   "metadata": {
    "tags": []
   },
   "outputs": [],
   "source": [
    "\n",
    "for element in data:\n",
    "    e = element.split(',')\n",
    "date = [M[int(e[0].split('-')[1])-10]]\n",
    "data1 = [e[1]]\n",
    "Lati = [e[2]]\n",
    "Longi = [e[3]]\n",
    "data2 = [e[4]]\n",
    "kA = [e[5]]\n",
    "mn = [int(e[0].split('-')[1])]\n",
    "\n",
    "for i in range(0,1481694):\n",
    "    val = data.loc[i][0].split(',')\n",
    "    date.append(M[int(val[0].split('-')[1])-1])\n",
    "    data1.append(val[1])\n",
    "    Lati.append(val[2])\n",
    "    Longi.append(val[3])\n",
    "    data2.append(val[4])\n",
    "    kA.append(val[5])\n",
    "    mn.append(int(val[0].split('-')[1]))\n",
    "\n",
    "Lightning_data = {\n",
    "    'Month':date,\n",
    "    'Month.no':mn,\n",
    "    'Data1':data1,\n",
    "    'Latitude':Lati,\n",
    "    'Longitude':Longi,\n",
    "    'data2':data2,\n",
    "    'KA_':kA\n",
    "    \n",
    "    }\n",
    "\n",
    "\n",
    "LightningDf = pd.DataFrame(Lightning_data)\n",
    "\n",
    "\n",
    "\n",
    "geometry = [Point(xy) for xy in zip(LightningDf['Longitude'],LightningDf['Latitude'])]\n",
    "points_of_interest = gpd.GeoDataFrame(LightningDf, geometry = geometry, crs = nepaldata.crs)\n",
    "\n",
    "points_of_interest_in_nepal = gpd.sjoin(points_of_interest, nepaldata, how='inner', predicate = 'intersects')"
   ]
  },
  {
   "cell_type": "markdown",
   "id": "5cc321aa-d651-4da1-a2c5-e01085a2cf3f",
   "metadata": {
    "tags": []
   },
   "source": [
    "# QUERY"
   ]
  },
  {
   "cell_type": "code",
   "execution_count": 4,
   "id": "66c3133f-756d-46c1-b92f-05d36b0310fd",
   "metadata": {
    "tags": []
   },
   "outputs": [],
   "source": [
    "\n",
    "def region_with_point(point):\n",
    "    #Pass a list in point\n",
    "    \n",
    "    TFT = []\n",
    "    point = Point(point)\n",
    "    for polygon in nepaldata['geometry']:\n",
    "        TFT.append(point.within(polygon))\n",
    "    reqregion = nepaldata[TFT]\n",
    "    return reqregion\n",
    "\n",
    "#eg.\n",
    "region = region_with_point([85,28])"
   ]
  }
 ],
 "metadata": {
  "kernelspec": {
   "display_name": "Python 3 (ipykernel)",
   "language": "python",
   "name": "python3"
  },
  "language_info": {
   "codemirror_mode": {
    "name": "ipython",
    "version": 3
   },
   "file_extension": ".py",
   "mimetype": "text/x-python",
   "name": "python",
   "nbconvert_exporter": "python",
   "pygments_lexer": "ipython3",
   "version": "3.11.3"
  }
 },
 "nbformat": 4,
 "nbformat_minor": 5
}
